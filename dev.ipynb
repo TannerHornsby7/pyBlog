{
 "cells": [
  {
   "cell_type": "markdown",
   "metadata": {},
   "source": [
    "Title: PyBlog - Jupyter Notebook to HTML Converter\n",
    "\n",
    "Description:\n",
    "PyBlog converts Jupyter Notebook files into beautifully styled HTML documents. With PyBlog, you can effortlessly transform your code, visualizations, and markdown content into a professional-looking blog post or documentation and store it on the cloud setting the permissions to decide if you want it to be shared on the public API.\n",
    "\n",
    "Methods:\n",
    "\n",
    "1. `convert_to_html(notebook_file: str, output_file: str) -> None`:\n",
    "   - Description: This method converts a Jupyter Notebook file to HTML format.\n",
    "   - Parameters:\n",
    "     - `notebook_file` (str): The path to the Jupyter Notebook file to be converted.\n",
    "     - `output_file` (str): The path to save the generated HTML file.\n",
    "   - Returns: None\n",
    "\n",
    "2. `apply_styling(html_file: str, css_file: str) -> None`:\n",
    "   - Description: This method applies custom styling to the generated HTML file.\n",
    "   - Parameters:\n",
    "     - `html_file` (str): The path to the HTML file to be styled.\n",
    "     - `css_file` (str): The path to the CSS file containing the styling rules.\n",
    "   - Returns: None\n",
    "\n",
    "3. `add_header(html_file: str, title: str, description: str) -> None`:\n",
    "   - Description: This method adds a header section to the HTML file, including the title and description of the blog post or documentation.\n",
    "   - Parameters:\n",
    "     - `html_file` (str): The path to the HTML file to add the header section.\n",
    "     - `title` (str): The title of the blog post or documentation.\n",
    "     - `description` (str): A brief description of the content.\n",
    "   - Returns: None\n",
    "\n",
    "4. `add_code_highlighting(html_file: str) -> None`:\n",
    "   - Description: This method adds syntax highlighting to code cells in the HTML file.\n",
    "   - Parameters:\n",
    "     - `html_file` (str): The path to the HTML file to add code highlighting.\n",
    "   - Returns: None\n",
    "\n",
    "5. `add_table_of_contents(html_file: str) -> None`:\n",
    "   - Description: This method adds a table of contents to the HTML file, based on the notebook's headings and sections.\n",
    "   - Parameters:\n",
    "     - `html_file` (str): The path to the HTML file to add the table of contents.\n",
    "   - Returns: None"
   ]
  },
  {
   "cell_type": "code",
   "execution_count": 1,
   "metadata": {},
   "outputs": [
    {
     "name": "stdout",
     "output_type": "stream",
     "text": [
      "Defaulting to user installation because normal site-packages is not writeable\n",
      "Requirement already satisfied: nbconvert in /home/tanner/.local/lib/python3.10/site-packages (from -r requirements.txt (line 1)) (7.12.0)\n",
      "Requirement already satisfied: nbformat in /home/tanner/.local/lib/python3.10/site-packages (from -r requirements.txt (line 2)) (5.9.2)\n",
      "Requirement already satisfied: psycopg2 in /home/tanner/.local/lib/python3.10/site-packages (from -r requirements.txt (line 3)) (2.9.9)\n",
      "Requirement already satisfied: pymongo[srv] in /home/tanner/.local/lib/python3.10/site-packages (from -r requirements.txt (line 4)) (4.6.1)\n",
      "Collecting dotenv\n",
      "  Downloading dotenv-0.0.5.tar.gz (2.4 kB)\n",
      "  Preparing metadata (setup.py) ... \u001b[?25lerror\n",
      "  \u001b[1;31merror\u001b[0m: \u001b[1msubprocess-exited-with-error\u001b[0m\n",
      "  \n",
      "  \u001b[31m×\u001b[0m \u001b[32mpython setup.py egg_info\u001b[0m did not run successfully.\n",
      "  \u001b[31m│\u001b[0m exit code: \u001b[1;36m1\u001b[0m\n",
      "  \u001b[31m╰─>\u001b[0m \u001b[31m[70 lines of output]\u001b[0m\n",
      "  \u001b[31m   \u001b[0m /usr/lib/python3/dist-packages/pkg_resources/__init__.py:116: PkgResourcesDeprecationWarning: 1.16.0-unknown is an invalid version and will not be supported in a future release\n",
      "  \u001b[31m   \u001b[0m   warnings.warn(\n",
      "  \u001b[31m   \u001b[0m /usr/lib/python3/dist-packages/pkg_resources/__init__.py:116: PkgResourcesDeprecationWarning: 1.1build1 is an invalid version and will not be supported in a future release\n",
      "  \u001b[31m   \u001b[0m   warnings.warn(\n",
      "  \u001b[31m   \u001b[0m /usr/lib/python3/dist-packages/pkg_resources/__init__.py:116: PkgResourcesDeprecationWarning: 0.1.43ubuntu1 is an invalid version and will not be supported in a future release\n",
      "  \u001b[31m   \u001b[0m   warnings.warn(\n",
      "  \u001b[31m   \u001b[0m /usr/lib/python3/dist-packages/setuptools/installer.py:27: SetuptoolsDeprecationWarning: setuptools.installer is deprecated. Requirements should be satisfied by a PEP 517 installer.\n",
      "  \u001b[31m   \u001b[0m   warnings.warn(\n",
      "  \u001b[31m   \u001b[0m   error: subprocess-exited-with-error\n",
      "  \u001b[31m   \u001b[0m \n",
      "  \u001b[31m   \u001b[0m   × python setup.py egg_info did not run successfully.\n",
      "  \u001b[31m   \u001b[0m   │ exit code: 1\n",
      "  \u001b[31m   \u001b[0m   ╰─> [16 lines of output]\n",
      "  \u001b[31m   \u001b[0m       Traceback (most recent call last):\n",
      "  \u001b[31m   \u001b[0m         File \"<string>\", line 2, in <module>\n",
      "  \u001b[31m   \u001b[0m         File \"<pip-setuptools-caller>\", line 14, in <module>\n",
      "  \u001b[31m   \u001b[0m         File \"/tmp/pip-wheel-bcj0v938/distribute_fa6bb02067e84a3ba37f072e1531fdc9/setuptools/__init__.py\", line 2, in <module>\n",
      "  \u001b[31m   \u001b[0m           from setuptools.extension import Extension, Library\n",
      "  \u001b[31m   \u001b[0m         File \"/tmp/pip-wheel-bcj0v938/distribute_fa6bb02067e84a3ba37f072e1531fdc9/setuptools/extension.py\", line 5, in <module>\n",
      "  \u001b[31m   \u001b[0m           from setuptools.dist import _get_unpatched\n",
      "  \u001b[31m   \u001b[0m         File \"/tmp/pip-wheel-bcj0v938/distribute_fa6bb02067e84a3ba37f072e1531fdc9/setuptools/dist.py\", line 7, in <module>\n",
      "  \u001b[31m   \u001b[0m           from setuptools.command.install import install\n",
      "  \u001b[31m   \u001b[0m         File \"/tmp/pip-wheel-bcj0v938/distribute_fa6bb02067e84a3ba37f072e1531fdc9/setuptools/command/__init__.py\", line 8, in <module>\n",
      "  \u001b[31m   \u001b[0m           from setuptools.command import install_scripts\n",
      "  \u001b[31m   \u001b[0m         File \"/tmp/pip-wheel-bcj0v938/distribute_fa6bb02067e84a3ba37f072e1531fdc9/setuptools/command/install_scripts.py\", line 3, in <module>\n",
      "  \u001b[31m   \u001b[0m           from pkg_resources import Distribution, PathMetadata, ensure_directory\n",
      "  \u001b[31m   \u001b[0m         File \"/tmp/pip-wheel-bcj0v938/distribute_fa6bb02067e84a3ba37f072e1531fdc9/pkg_resources.py\", line 1518, in <module>\n",
      "  \u001b[31m   \u001b[0m           register_loader_type(importlib_bootstrap.SourceFileLoader, DefaultProvider)\n",
      "  \u001b[31m   \u001b[0m       AttributeError: module 'importlib._bootstrap' has no attribute 'SourceFileLoader'\n",
      "  \u001b[31m   \u001b[0m       [end of output]\n",
      "  \u001b[31m   \u001b[0m \n",
      "  \u001b[31m   \u001b[0m   note: This error originates from a subprocess, and is likely not a problem with pip.\n",
      "  \u001b[31m   \u001b[0m error: metadata-generation-failed\n",
      "  \u001b[31m   \u001b[0m \n",
      "  \u001b[31m   \u001b[0m × Encountered error while generating package metadata.\n",
      "  \u001b[31m   \u001b[0m ╰─> See above for output.\n",
      "  \u001b[31m   \u001b[0m \n",
      "  \u001b[31m   \u001b[0m note: This is an issue with the package mentioned above, not pip.\n",
      "  \u001b[31m   \u001b[0m hint: See above for details.\n",
      "  \u001b[31m   \u001b[0m Traceback (most recent call last):\n",
      "  \u001b[31m   \u001b[0m   File \"/usr/lib/python3/dist-packages/setuptools/installer.py\", line 82, in fetch_build_egg\n",
      "  \u001b[31m   \u001b[0m     subprocess.check_call(cmd)\n",
      "  \u001b[31m   \u001b[0m   File \"/usr/lib/python3.10/subprocess.py\", line 369, in check_call\n",
      "  \u001b[31m   \u001b[0m     raise CalledProcessError(retcode, cmd)\n",
      "  \u001b[31m   \u001b[0m subprocess.CalledProcessError: Command '['/bin/python3', '-m', 'pip', '--disable-pip-version-check', 'wheel', '--no-deps', '-w', '/tmp/tmp9ljq1rf9', '--quiet', 'distribute']' returned non-zero exit status 1.\n",
      "  \u001b[31m   \u001b[0m \n",
      "  \u001b[31m   \u001b[0m The above exception was the direct cause of the following exception:\n",
      "  \u001b[31m   \u001b[0m \n",
      "  \u001b[31m   \u001b[0m Traceback (most recent call last):\n",
      "  \u001b[31m   \u001b[0m   File \"<string>\", line 2, in <module>\n",
      "  \u001b[31m   \u001b[0m   File \"<pip-setuptools-caller>\", line 34, in <module>\n",
      "  \u001b[31m   \u001b[0m   File \"/tmp/pip-install-a6pgevso/dotenv_902ad35a98d94cb8855f36de37d5492c/setup.py\", line 13, in <module>\n",
      "  \u001b[31m   \u001b[0m     setup(name='dotenv',\n",
      "  \u001b[31m   \u001b[0m   File \"/usr/lib/python3/dist-packages/setuptools/__init__.py\", line 152, in setup\n",
      "  \u001b[31m   \u001b[0m     _install_setup_requires(attrs)\n",
      "  \u001b[31m   \u001b[0m   File \"/usr/lib/python3/dist-packages/setuptools/__init__.py\", line 147, in _install_setup_requires\n",
      "  \u001b[31m   \u001b[0m     dist.fetch_build_eggs(dist.setup_requires)\n",
      "  \u001b[31m   \u001b[0m   File \"/usr/lib/python3/dist-packages/setuptools/dist.py\", line 812, in fetch_build_eggs\n",
      "  \u001b[31m   \u001b[0m     resolved_dists = pkg_resources.working_set.resolve(\n",
      "  \u001b[31m   \u001b[0m   File \"/usr/lib/python3/dist-packages/pkg_resources/__init__.py\", line 771, in resolve\n",
      "  \u001b[31m   \u001b[0m     dist = best[req.key] = env.best_match(\n",
      "  \u001b[31m   \u001b[0m   File \"/usr/lib/python3/dist-packages/pkg_resources/__init__.py\", line 1056, in best_match\n",
      "  \u001b[31m   \u001b[0m     return self.obtain(req, installer)\n",
      "  \u001b[31m   \u001b[0m   File \"/usr/lib/python3/dist-packages/pkg_resources/__init__.py\", line 1068, in obtain\n",
      "  \u001b[31m   \u001b[0m     return installer(requirement)\n",
      "  \u001b[31m   \u001b[0m   File \"/usr/lib/python3/dist-packages/setuptools/dist.py\", line 883, in fetch_build_egg\n",
      "  \u001b[31m   \u001b[0m     return fetch_build_egg(self, req)\n",
      "  \u001b[31m   \u001b[0m   File \"/usr/lib/python3/dist-packages/setuptools/installer.py\", line 84, in fetch_build_egg\n",
      "  \u001b[31m   \u001b[0m     raise DistutilsError(str(e)) from e\n",
      "  \u001b[31m   \u001b[0m distutils.errors.DistutilsError: Command '['/bin/python3', '-m', 'pip', '--disable-pip-version-check', 'wheel', '--no-deps', '-w', '/tmp/tmp9ljq1rf9', '--quiet', 'distribute']' returned non-zero exit status 1.\n",
      "  \u001b[31m   \u001b[0m \u001b[31m[end of output]\u001b[0m\n",
      "  \n",
      "  \u001b[1;35mnote\u001b[0m: This error originates from a subprocess, and is likely not a problem with pip.\n",
      "\u001b[?25h\u001b[1;31merror\u001b[0m: \u001b[1mmetadata-generation-failed\u001b[0m\n",
      "\n",
      "\u001b[31m×\u001b[0m Encountered error while generating package metadata.\n",
      "\u001b[31m╰─>\u001b[0m See above for output.\n",
      "\n",
      "\u001b[1;35mnote\u001b[0m: This is an issue with the package mentioned above, not pip.\n",
      "\u001b[1;36mhint\u001b[0m: See above for details.\n",
      "Note: you may need to restart the kernel to use updated packages.\n"
     ]
    }
   ],
   "source": [
    "%pip install -r requirements.txt"
   ]
  },
  {
   "cell_type": "code",
   "execution_count": 2,
   "metadata": {},
   "outputs": [
    {
     "name": "stdout",
     "output_type": "stream",
     "text": [
      "Pinged your deployment. You successfully connected to MongoDB!\n"
     ]
    }
   ],
   "source": [
    "from pymongo.mongo_client import MongoClient\n",
    "from pymongo.server_api import ServerApi\n",
    "# use environment variables to store the password\n",
    "import os\n",
    "from dotenv import load_dotenv\n",
    "load_dotenv()\n",
    "\n",
    "pw = os.environ.get(\"MONGO_PW\")\n",
    "\n",
    "uri = \"mongodb+srv://twhornsby7:\" + pw + \"@pyblog.erwaxii.mongodb.net/?retryWrites=true&w=majority\"\n",
    "\n",
    "# Create a new client and connect to the server\n",
    "client = MongoClient(uri, server_api=ServerApi('1'))\n",
    "\n",
    "# Send a ping to confirm a successful connection\n",
    "try:\n",
    "    client.admin.command('ping')\n",
    "    print(\"Pinged your deployment. You successfully connected to MongoDB!\")\n",
    "except Exception as e:\n",
    "    print(e)"
   ]
  },
  {
   "cell_type": "code",
   "execution_count": 3,
   "metadata": {},
   "outputs": [
    {
     "name": "stdout",
     "output_type": "stream",
     "text": [
      "Inserted a test document into the posts collection.\n"
     ]
    }
   ],
   "source": [
    "# create the blog table and insert a test document\n",
    "# db = client.blog\n",
    "# db.posts.insert_one({\"title\": \"test post\", \"body\": \"this is a test post\"})\n",
    "# print(\"Inserted a test document into the posts collection.\")"
   ]
  },
  {
   "cell_type": "code",
   "execution_count": 11,
   "metadata": {},
   "outputs": [
    {
     "name": "stdout",
     "output_type": "stream",
     "text": [
      "Inserted a test document into the posts collection.\n"
     ]
    }
   ],
   "source": [
    "# now given a jupyter notebook, we can convert it to an html file and then\n",
    "# upload that file to the blog database\n",
    "def convert_and_upload(notebook, theme):\n",
    "    import nbconvert\n",
    "    import nbformat\n",
    "    import os\n",
    "    import datetime\n",
    "\n",
    "    # convert the notebook to html\n",
    "    html = nbconvert.HTMLExporter()\n",
    "    html.theme = theme\n",
    "    html.exclude_input = True\n",
    "    html.exclude_output_prompt = True\n",
    "    html.exclude_input_prompt = True\n",
    "    html.exclude_output = True\n",
    "\n",
    "    # get the name of the notebook\n",
    "    name = notebook.split('.')[0]\n",
    "\n",
    "    # read the notebook\n",
    "    with open(notebook) as f:\n",
    "        nb = nbformat.read(f, as_version=4)\n",
    "\n",
    "    # convert it to html\n",
    "    (body, resources) = html.from_notebook_node(nb)\n",
    "\n",
    "    # create the html file\n",
    "    with open(name + '.html', 'w') as f:\n",
    "        f.write(body)\n",
    "\n",
    "    # upload the html file to the blog database\n",
    "    db = client.blog\n",
    "    db.posts.insert_one({\"title\": name, \"body\": body, \"date\": datetime.datetime.now()})\n",
    "    print(\"Inserted a test document into the posts collection.\")\n",
    "\n",
    "    # remove the html file\n",
    "    os.remove(name + '.html')\n",
    "\n",
    "convert_and_upload('test2.ipynb', 'dark')\n"
   ]
  },
  {
   "cell_type": "code",
   "execution_count": 10,
   "metadata": {},
   "outputs": [],
   "source": [
    "# pull the second document from the posts collection\n",
    "post = db.posts.find()[1]\n",
    "# save it as an html file\n",
    "with open(post['title'] + '.html', 'w') as f:\n",
    "    f.write(post['body'])"
   ]
  },
  {
   "cell_type": "code",
   "execution_count": null,
   "metadata": {},
   "outputs": [],
   "source": []
  }
 ],
 "metadata": {
  "kernelspec": {
   "display_name": "Python 3",
   "language": "python",
   "name": "python3"
  },
  "language_info": {
   "codemirror_mode": {
    "name": "ipython",
    "version": 3
   },
   "file_extension": ".py",
   "mimetype": "text/x-python",
   "name": "python",
   "nbconvert_exporter": "python",
   "pygments_lexer": "ipython3",
   "version": "3.10.12"
  }
 },
 "nbformat": 4,
 "nbformat_minor": 2
}
